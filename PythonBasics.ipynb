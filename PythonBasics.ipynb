{
  "nbformat": 4,
  "nbformat_minor": 0,
  "metadata": {
    "colab": {
      "provenance": []
    },
    "kernelspec": {
      "name": "python3",
      "display_name": "Python 3"
    },
    "language_info": {
      "name": "python"
    }
  },
  "cells": [
    {
      "cell_type": "markdown",
      "source": [
        "1. What is Python and why it is popular?\n",
        "- Python is a versatile, high-level programming language known for its simplicity and readability.\n",
        "- Reasons for Python's popularity:\n",
        ">>- Active Community.\n",
        ">> -Ease of use.\n",
        ">> -Rich libraries and framework."
      ],
      "metadata": {
        "id": "P57DQC5ZFjFU"
      }
    },
    {
      "cell_type": "markdown",
      "source": [
        "2. What is an interpreter in Python?\n",
        "- In Python, an interpreter is a program that executes code directly, line by line, instead of converting the entire source code into machine code at once (as a compiler does)."
      ],
      "metadata": {
        "id": "o-J0eAEYFjB0"
      }
    },
    {
      "cell_type": "markdown",
      "source": [
        "3. What are pre-defined keywords in Python?\n",
        "- Pre-defined keywords in Python are reserved words that have specific meanings and purposes within the language."
      ],
      "metadata": {
        "id": "LB_onGSdFi_V"
      }
    },
    {
      "cell_type": "markdown",
      "source": [
        "4. Can keywords can be used as variable names?\n",
        "- No."
      ],
      "metadata": {
        "id": "52O4ieKtFi8i"
      }
    },
    {
      "cell_type": "markdown",
      "source": [
        "5. What is mutability in Python?\n",
        "- Mutability in Python refers to an object's ability to be changed after its creation.Mutable objects can be modifed where immutable ojbects cann't be modified."
      ],
      "metadata": {
        "id": "44pegUihFi5l"
      }
    },
    {
      "cell_type": "markdown",
      "source": [
        "6. Why list are mutable,but tuples are immutable?\n",
        "- Lists hold references to mutable objects, allowing changes in place. Tuples, on the other hand, enforce immutability by design to ensure stability, making them suitable for scenarios where data integrity matters."
      ],
      "metadata": {
        "id": "aDEKexRrFi2r"
      }
    },
    {
      "cell_type": "markdown",
      "source": [
        "7. What is the difference between \"==\" and \"is\" operators in Python?\n",
        "- The \"==\" operator is used to check if two objects have the same value.It compares the content or data of the objects.The \"is\" operator checks if two objects refer to the same memory location.It does not compare the content of the objects, only their identity."
      ],
      "metadata": {
        "id": "rvPGT87iFiz3"
      }
    },
    {
      "cell_type": "markdown",
      "source": [
        "8. What are logical operators in Python?\n",
        "- Logical operators in Python are used to combine conditional statements or expressions and evaluate their truth values.Python provides three logical operators:\n",
        ">>- Logical AND.\n",
        ">>- Logical OR.\n",
        ">>- Logical NOT.\n"
      ],
      "metadata": {
        "id": "laUJRX39FixD"
      }
    },
    {
      "cell_type": "markdown",
      "source": [
        "9. What is type casting in Python?\n",
        "- Type casting in Python refers to converting a variable from one data type to another."
      ],
      "metadata": {
        "id": "ftP_LWvnFit7"
      }
    },
    {
      "cell_type": "markdown",
      "source": [
        "10. What is the difference between implict and explicit type casting?\n",
        "- Implicit Type Casting-->Python handles the conversion without any action from the programmer. It happens when the conversion is safe and doesn't result in data loss.Ensures smooth operations between compatible data types.\n",
        "- Explicit Type Casting-->The programmer explicitly uses type conversion functions (like int(),float(),or str()) to perform the conversion.Allows greater control when handling incompatible or custom data types.\n"
      ],
      "metadata": {
        "id": "6Qa75Y9tFird"
      }
    },
    {
      "cell_type": "markdown",
      "source": [
        "11. What is the purpose of conditional statements in Python?\n",
        "- The purpose of conditional statements in Python is to control the flow of a program by making decisions based on certain conditions."
      ],
      "metadata": {
        "id": "NxdMQeE8Fio5"
      }
    },
    {
      "cell_type": "markdown",
      "source": [
        "12. How does the elif statement work?\n",
        "- The elif statement in Python, short for \"else if,\" is used to check additional conditions if the previous if or elif conditions are false. It allows you to create complex decision-making logic by handling multiple possible scenarios."
      ],
      "metadata": {
        "id": "11h9mrtlFil3"
      }
    },
    {
      "cell_type": "markdown",
      "source": [
        "13. What is the difference between for and while loops?\n",
        "- for Loop--> Used to iterate over a sequence (like a list, range, or string) or any iterable object.The loop runs for a predetermined number of iterations, based on the sequence being iterated.\n",
        "- while Loop-->Used to execute a block of code while a condition remains true.The loop continues until the condition becomes false, meaning the number of iterations is not predetermined."
      ],
      "metadata": {
        "id": "oBMJJVY2FijK"
      }
    },
    {
      "cell_type": "markdown",
      "source": [
        "14. Describe a scenario where a while loop is more suitable than a for loop?\n",
        "- Suppose you want to create a countdown timer that continues until the number reaches zero. Here, a while loop is ideal because the condition depends on the value of the variable.\n",
        "The loop runs until the condition count>0 becomes false, and the number of iterations depends on the initial value of count."
      ],
      "metadata": {
        "id": "ng3uRtQzFige"
      }
    },
    {
      "cell_type": "code",
      "execution_count": null,
      "metadata": {
        "colab": {
          "base_uri": "https://localhost:8080/"
        },
        "id": "EMg8UhTlFd_Q",
        "outputId": "51a83418-80b3-4267-86b1-d051fbb24a6d"
      },
      "outputs": [
        {
          "output_type": "stream",
          "name": "stdout",
          "text": [
            "Hello,World!\n"
          ]
        }
      ],
      "source": [
        "#Practical Questions\n",
        "#1.Write a Python program to print \"Hello,World!\"\n",
        "print(\"Hello,World!\")"
      ]
    },
    {
      "cell_type": "code",
      "source": [
        "#2. Write a Python program that displays your name and age.\n",
        "name=input(\"Enter your name:\")\n",
        "age=int(input(\"Enter your age:\"))\n",
        "print(\"Name:\",name)\n",
        "print(\"Age:\",age)"
      ],
      "metadata": {
        "colab": {
          "base_uri": "https://localhost:8080/"
        },
        "id": "18QhWcOLZegr",
        "outputId": "b44a6173-31c9-4501-9f5b-9938cbe2b7b0"
      },
      "execution_count": null,
      "outputs": [
        {
          "output_type": "stream",
          "name": "stdout",
          "text": [
            "Enter your name:Akshaya Niveditha\n",
            "Enter your age:21\n",
            "Name: Akshaya Niveditha\n",
            "Age: 21\n"
          ]
        }
      ]
    },
    {
      "cell_type": "code",
      "source": [
        "#3. Write a code to print all the pre-defined keywords in Python using the keyword library.\n",
        "help('keywords')"
      ],
      "metadata": {
        "colab": {
          "base_uri": "https://localhost:8080/"
        },
        "id": "cH6dx6UeZ4QM",
        "outputId": "ccdbe8ef-9df6-4037-9aa1-5a84447d12f7"
      },
      "execution_count": null,
      "outputs": [
        {
          "output_type": "stream",
          "name": "stdout",
          "text": [
            "\n",
            "Here is a list of the Python keywords.  Enter any keyword to get more help.\n",
            "\n",
            "False               class               from                or\n",
            "None                continue            global              pass\n",
            "True                def                 if                  raise\n",
            "and                 del                 import              return\n",
            "as                  elif                in                  try\n",
            "assert              else                is                  while\n",
            "async               except              lambda              with\n",
            "await               finally             nonlocal            yield\n",
            "break               for                 not                 \n",
            "\n"
          ]
        }
      ]
    },
    {
      "cell_type": "code",
      "source": [
        "#4. Write a program that checks if a given word is a Python keyword.\n",
        "import keyword\n",
        "\n",
        "def is_python_keyword(word):\n",
        "    return keyword.iskeyword(word)\n",
        "\n",
        "word = input(\"Enter a word to check if it's a Python keyword: \")\n",
        "\n",
        "if is_python_keyword(word):\n",
        "    print(f'\"{word}\" is a Python keyword.')\n",
        "else:\n",
        "    print(f'\"{word}\" is not a Python keyword.')"
      ],
      "metadata": {
        "colab": {
          "base_uri": "https://localhost:8080/"
        },
        "id": "WknI3auUaexL",
        "outputId": "e16a5177-6840-4128-bb85-55aa479c7949"
      },
      "execution_count": null,
      "outputs": [
        {
          "output_type": "stream",
          "name": "stdout",
          "text": [
            "Enter a word to check if it's a Python keyword: for\n",
            "\"for\" is a Python keyword.\n"
          ]
        }
      ]
    },
    {
      "cell_type": "code",
      "source": [
        "# 5. Create a list and tuple in Python and demonstrate how attempting to change an elememt works differently for each.\n",
        "\n",
        "my_list = [1, 2, 3]\n",
        "my_tuple = (4, 5, 6)\n",
        "\n",
        "print(\"Original list:\", my_list)\n",
        "my_list[1] = 20\n",
        "print(\"Modified list:\", my_list)\n",
        "\n",
        "print(\"\\nOriginal tuple:\", my_tuple)\n",
        "try:\n",
        "    my_tuple[1] = 50\n",
        "except TypeError as e:\n",
        "    print(\"Error while modifying tuple:\", e)"
      ],
      "metadata": {
        "colab": {
          "base_uri": "https://localhost:8080/"
        },
        "id": "G4DmunFCa726",
        "outputId": "52b3aaa9-fc0e-4ce7-e075-80613616fe24"
      },
      "execution_count": null,
      "outputs": [
        {
          "output_type": "stream",
          "name": "stdout",
          "text": [
            "Original list: [1, 2, 3]\n",
            "Modified list: [1, 20, 3]\n",
            "\n",
            "Original tuple: (4, 5, 6)\n",
            "Error while modifying tuple: 'tuple' object does not support item assignment\n"
          ]
        }
      ]
    },
    {
      "cell_type": "code",
      "source": [
        "#6. Write a function to demonstrate the behavior of mutable and immutable arguments.\n",
        "def modify_list(lst):\n",
        "    lst.append(4)  # Modifying the list"
      ],
      "metadata": {
        "id": "iZBE1mrybe1G"
      },
      "execution_count": null,
      "outputs": []
    },
    {
      "cell_type": "code",
      "source": [
        "#7. Write a program that performs basic arithmetic operations on two user-input numbers.\n",
        "num1=int(input(\"Enter first number:\"))\n",
        "num2=int(input(\"Enter second number:\"))\n",
        "print(\"Addition:\",num1+num2)\n",
        "print(\"Subtraction:\",num1-num2)\n",
        "print(\"Multiplication:\",num1*num2)\n",
        "print(\"Division:\",num1/num2)\n",
        "print(\"Modulus:\",num1%num2)\n",
        "print(\"Exponent:\",num1**num2)\n",
        "print(\"Floor Division:\",num1//num2)"
      ],
      "metadata": {
        "colab": {
          "base_uri": "https://localhost:8080/"
        },
        "id": "D3H87fVvb-wE",
        "outputId": "9ec8a197-04c0-4516-81e0-d7946621069a"
      },
      "execution_count": null,
      "outputs": [
        {
          "output_type": "stream",
          "name": "stdout",
          "text": [
            "Enter first number:10\n",
            "Enter second number:5\n",
            "Addition: 15\n",
            "Subtraction: 5\n",
            "Multiplication: 50\n",
            "Division: 2.0\n",
            "Modulus: 0\n",
            "Exponent: 100000\n",
            "Floor Division: 2\n"
          ]
        }
      ]
    },
    {
      "cell_type": "code",
      "source": [
        "#8. Write a program to demonstrate the use of logical operators.\n",
        "# Logical Operators Demonstration\n",
        "\n",
        "# Variables\n",
        "x = True\n",
        "y = False\n",
        "\n",
        "# Using the 'and' operator\n",
        "if x and y:\n",
        "    print(\"'x and y' is True\")\n",
        "else:\n",
        "    print(\"'x and y' is False\")\n",
        "\n",
        "# Using the 'or' operator\n",
        "if x or y:\n",
        "    print(\"'x or y' is True\")\n",
        "else:\n",
        "    print(\"'x or y' is False\")\n",
        "\n",
        "# Using the 'not' operator\n",
        "print(\"The value of 'not x' is\", not x)\n",
        "print(\"The value of 'not y' is\", not y)\n",
        "\n",
        "# Practical example\n",
        "a = 10\n",
        "b = 5\n",
        "c = 20\n",
        "\n",
        "# Combining conditions with logical operators\n",
        "if (a > b) and (c > a):\n",
        "    print(\"Both conditions are True: 'a > b' and 'c > a'\")\n",
        "\n",
        "if (a > b) or (a > c):\n",
        "    print(\"At least one condition is True: 'a > b' or 'a > c'\")\n"
      ],
      "metadata": {
        "colab": {
          "base_uri": "https://localhost:8080/"
        },
        "id": "TgpL9hWIdBOM",
        "outputId": "c2b0042e-b3d9-411f-9fba-2144f34707d9"
      },
      "execution_count": null,
      "outputs": [
        {
          "output_type": "stream",
          "name": "stdout",
          "text": [
            "'x and y' is False\n",
            "'x or y' is True\n",
            "The value of 'not x' is False\n",
            "The value of 'not y' is True\n",
            "Both conditions are True: 'a > b' and 'c > a'\n",
            "At least one condition is True: 'a > b' or 'a > c'\n"
          ]
        }
      ]
    },
    {
      "cell_type": "code",
      "source": [
        "#9. Write a Python program to convert user input from string to integer,float,and boolean types.\n",
        "# User input\n",
        "user_input = input(\"Enter a value: \")\n",
        "\n",
        "# Convert to integer\n",
        "try:\n",
        "    integer_value = int(user_input)\n",
        "    print(f\"Integer conversion successful: {integer_value}\")\n",
        "except ValueError:\n",
        "    print(f\"Cannot convert '{user_input}' to an integer.\")\n",
        "\n",
        "# Convert to float\n",
        "try:\n",
        "    float_value = float(user_input)\n",
        "    print(f\"Float conversion successful: {float_value}\")\n",
        "except ValueError:\n",
        "    print(f\"Cannot convert '{user_input}' to a float.\")\n",
        "\n",
        "# Convert to boolean\n",
        "boolean_value = bool(user_input)  # Any non-empty string is True; empty string is False\n",
        "print(f\"Boolean conversion result: {boolean_value}\")"
      ],
      "metadata": {
        "colab": {
          "base_uri": "https://localhost:8080/"
        },
        "id": "MsEvrRCtdbLu",
        "outputId": "973e098b-f28f-47b0-922e-6d88d0ea415e"
      },
      "execution_count": null,
      "outputs": [
        {
          "output_type": "stream",
          "name": "stdout",
          "text": [
            "Enter a value: 44\n",
            "Integer conversion successful: 44\n",
            "Float conversion successful: 44.0\n",
            "Boolean conversion result: True\n"
          ]
        }
      ]
    },
    {
      "cell_type": "code",
      "source": [
        "#10. Write a code to demonstrate type casting with list elements.\n",
        "# Original list with string elements\n",
        "original_list = [\"10\", \"20.5\", \"True\"]\n",
        "\n",
        "# Type casting each element\n",
        "int_list = [int(item) for item in original_list if item.isdigit()]  # Convert to integers\n",
        "float_list = [float(item) for item in original_list if item.replace('.', '', 1).isdigit()]  # Convert to floats\n",
        "bool_list = [bool(item) for item in original_list]  # Convert to booleans\n",
        "\n",
        "# Output\n",
        "print(\"Original list:\", original_list)\n",
        "print(\"List after converting to integers:\", int_list)\n",
        "print(\"List after converting to floats:\", float_list)\n",
        "print(\"List after converting to booleans:\", bool_list)"
      ],
      "metadata": {
        "colab": {
          "base_uri": "https://localhost:8080/"
        },
        "id": "ZnHCCZOIeAtc",
        "outputId": "70a34674-aa07-4a16-fc9f-f908fa113124"
      },
      "execution_count": 2,
      "outputs": [
        {
          "output_type": "stream",
          "name": "stdout",
          "text": [
            "Original list: ['10', '20.5', 'True']\n",
            "List after converting to integers: [10]\n",
            "List after converting to floats: [10.0, 20.5]\n",
            "List after converting to booleans: [True, True, True]\n"
          ]
        }
      ]
    },
    {
      "cell_type": "code",
      "source": [
        "#11. Write a program that checks if a number is positive,negative or zero.\n",
        "# Input a number\n",
        "num = int(input(\"Enter a number: \"))\n",
        "\n",
        "# Check if the number is positive, negative, or zero\n",
        "if num > 0:\n",
        "    print(\"The number is positive.\")\n",
        "elif num < 0:\n",
        "    print(\"The number is negative.\")\n",
        "else:\n",
        "    print(\"The number is zero.\")"
      ],
      "metadata": {
        "colab": {
          "base_uri": "https://localhost:8080/"
        },
        "id": "ViC-b7jK2Khc",
        "outputId": "1b5918c8-1057-4959-9818-b246b3eaab1b"
      },
      "execution_count": 1,
      "outputs": [
        {
          "output_type": "stream",
          "name": "stdout",
          "text": [
            "Enter a number: 8\n",
            "The number is positive.\n"
          ]
        }
      ]
    },
    {
      "cell_type": "code",
      "source": [
        "#12. Write a for loop to print numbers from 1 to 10.\n",
        "# For loop to print numbers from 1 to 10\n",
        "for i in range(1, 11):\n",
        "    print(i)"
      ],
      "metadata": {
        "colab": {
          "base_uri": "https://localhost:8080/"
        },
        "id": "r0yZTpRg3WWD",
        "outputId": "b69f8306-4772-4dd0-87d2-a9d57de90d20"
      },
      "execution_count": 3,
      "outputs": [
        {
          "output_type": "stream",
          "name": "stdout",
          "text": [
            "1\n",
            "2\n",
            "3\n",
            "4\n",
            "5\n",
            "6\n",
            "7\n",
            "8\n",
            "9\n",
            "10\n"
          ]
        }
      ]
    },
    {
      "cell_type": "code",
      "source": [
        "#13. Write a Python program to find the sum of all even numbers between 1 to 50.\n",
        "sum_of_evens = 0\n",
        "for num in range(1, 51):\n",
        "    if num % 2 == 0:\n",
        "        sum_of_evens += num\n",
        "print(\"The sum of all even numbers between 1 and 50 is:\", sum_of_evens)"
      ],
      "metadata": {
        "colab": {
          "base_uri": "https://localhost:8080/"
        },
        "id": "M6MCRpiu3tdq",
        "outputId": "0abaf0ab-b4b7-48fd-c28f-195c4eecc6a6"
      },
      "execution_count": 4,
      "outputs": [
        {
          "output_type": "stream",
          "name": "stdout",
          "text": [
            "The sum of all even numbers between 1 and 50 is: 650\n"
          ]
        }
      ]
    },
    {
      "cell_type": "code",
      "source": [
        "#14. Write a program to reverse a string using a while loop.\n",
        "original_string = input(\"Enter a string to reverse: \")\n",
        "reversed_string = \"\"\n",
        "index = len(original_string) - 1\n",
        "while index >= 0:\n",
        "    reversed_string += original_string[index]\n",
        "    index -= 1\n",
        "print(\"Reversed string:\", reversed_string)"
      ],
      "metadata": {
        "colab": {
          "base_uri": "https://localhost:8080/"
        },
        "id": "dvu0chhA4KGt",
        "outputId": "b6d2ef61-adff-4372-8f5e-ec064e1a8e2b"
      },
      "execution_count": 5,
      "outputs": [
        {
          "output_type": "stream",
          "name": "stdout",
          "text": [
            "Enter a string to reverse: DataScience\n",
            "Reversed string: ecneicSataD\n"
          ]
        }
      ]
    },
    {
      "cell_type": "code",
      "source": [
        "#15. Write a Python program to calculate the factorial of a number provided by the user using a while loop.\n",
        "num = int(input(\"Enter a number: \"))\n",
        "factorial = 1\n",
        "current_number = 1\n",
        "while current_number <= num:\n",
        "    factorial *= current_number\n",
        "    current_number += 1\n",
        "print(f\"The factorial of {num} is: {factorial}\")"
      ],
      "metadata": {
        "colab": {
          "base_uri": "https://localhost:8080/"
        },
        "id": "W71ygFjO4nLx",
        "outputId": "38e47136-7866-43ae-b2eb-7326b17001bd"
      },
      "execution_count": 7,
      "outputs": [
        {
          "output_type": "stream",
          "name": "stdout",
          "text": [
            "Enter a number: 8\n",
            "The factorial of 8 is: 40320\n"
          ]
        }
      ]
    }
  ]
}